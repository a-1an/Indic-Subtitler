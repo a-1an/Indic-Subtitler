{
 "cells": [
  {
   "cell_type": "markdown",
   "metadata": {},
   "source": [
    "## Using prompting with GPT-4 to improve ASR transcription accuracy\n",
    "\n"
   ]
  },
  {
   "cell_type": "markdown",
   "metadata": {},
   "source": [
    "Prompt1:\n",
    "\n",
    "You are given an input video, the context of video and ASR transcription is provided. Based on context of video, correct any inaccuracies in ASR transcription and return ASR transcription line by line as it was provided in the input:\n",
    "\n",
    "Context - \n",
    "\n",
    "This is a youtube video Shashi tharoor and Thiagarajan discuss about why Centre is not giving equal amount of taxes to South Indian states which is affecting the states of Tamil Naidu and Kerala\n",
    "\n",
    "ASR Transcription -\n",
    "For every one rupee of tax contributed by Uttar Pradesh, that state receives one rupee 79 paise back.\n",
    " from central taxes.\n",
    "One thing that's become clearly apparent\n",
    " that struck home to me was when you had the Finance Commission.\n",
    "For the first time,\n",
    " this last recent finance commission was asked to take into account\n",
    " the census of 2011 rather than the census of 1971 in determining allocations.\n",
    " How did that affect your state and my state and other states?\n",
    "Just as redistricting of MP seats has been frozen since 1976,\n",
    " precisely because you didn't want to penalize those states that achieved the population control targets set by the Union Government, by the leadership of the Union Government.\n",
    " Similarly, the notion that you should allocate funds based on the population of today or more closer to today then rewards those who have not been able to achieve population control and penalizes those like Kerala and Tamil Nadu who have tremendously succeeded where our total fertility rates are below replacement, below 2.\n",
    "But if the goal of net transfers is\n",
    " eventual equality or leveling of outcomes, then our finance commissions have been spectacularly failing at their job.\n",
    "For every one rupee of tax contributed by Uttar Pradesh, that state receives one rupee seventy nine paise back from central taxes.\n",
    " For every one rupee of tax contributed by Karnataka, that state receives 47 paise there.\n",
    "So the question that Mr. Siddharam I asked when he was chief minister is, what is my reward for development?\n",
    "And obviously there isn't any.\n",
    "Kerala meets 72% of its expenses from its own taxes, only 28 from central taxes.\n",
    " Bihar, it's almost exactly reversed.\n",
    "23% from their own taxes, 77% from central taxes.\n",
    "And so we have a situation where, say, Tamil Nadu has a state budget that reflects, of course, only a small percentage of its tax earnings.\n",
    " UP has a larger state budget even though its economy is actually smaller than Tamil Nadu's because it's getting more money from elsewhere.\n",
    "Obviously, doesn't that put a strain on the federal idea because the increasing perception in the south would clearly seem to be that we're getting the raw end of the financial deal.\n",
    "Of course, that's problematic.\n",
    " in the short term.\n",
    "It's even more problematic in the long term.\n",
    "If you take Tamil Nadu for example, at one point we were seven, seven and a half percent of the country's economy.\n",
    "We were seven, seven and a half percent of the population and our share of the devolution of the horizontal between the states was seven, seven and a half percent.\n",
    " In 20-25 years, we've gone down to under 6% of the population, 10.5% to 11% of the economy, and our devolution is down to 4%.\n",
    "So in the long term, this trajectory worries me.\n",
    "If we go down this path, in another 15 or 20 years, we'll be 14-15% of the GDP and we'll get back like 2%.\n",
    "At that point, the debate becomes even more charged.\n",
    " I am much more concerned as a patriot, as a citizen.\n",
    "I am much more concerned about what happens to all this money when it goes to the poorer states.\n",
    "Why is it not leading to development?\n",
    "I mean, how is it that with less and less money back, we are still able to achieve\n",
    " I'm not saying we're fantastic, but we're in the right direction and our people's lives get better, there are more roads, there are better hospitals, there are better job creation platforms where global industry comes.\n",
    " Why is it that that's not happening in places like Bihar and UP?\n",
    "Because it's very stark, right?\n",
    "The data is a bit dated, about two years or three years.\n",
    "But in Bihar, the average age is 19.\n",
    "In Tamil Nadu, it's 34.\n",
    "In Bihar, the average education is elementary school dropout.\n",
    "In Tamil Nadu, it's high school graduate.\n",
    "In Bihar, the per capita income is about half the union average.\n",
    " In Tamil Nadu, it's double.\n",
    "So we have already diverged to a point where all of this money transfer, because if you say UP gets back 170, Bihar gets back about 345.\n",
    "For one rupee in, three rupees 45 back.\n",
    "Tamil Nadu puts one rupee in, we get 30 to 35 paisa back.\n",
    "So it's not the money that we begrudge.\n",
    "We live in one country.\n",
    "We want everybody to grow.\n",
    "It's the lack of progress.\n",
    "It's like throwing money down a well.\n",
    "What is happening that this money is not able to achieve outcomes?\n",
    " you\n"
   ]
  },
  {
   "cell_type": "code",
   "execution_count": 1,
   "metadata": {},
   "outputs": [],
   "source": [
    "! pip install -Uqq openai python-dotenv"
   ]
  },
  {
   "cell_type": "code",
   "execution_count": 2,
   "metadata": {},
   "outputs": [],
   "source": [
    "import os\n",
    "\n",
    "import openai\n",
    "from dotenv import load_dotenv"
   ]
  },
  {
   "cell_type": "code",
   "execution_count": 3,
   "metadata": {},
   "outputs": [
    {
     "data": {
      "text/plain": [
       "True"
      ]
     },
     "execution_count": 3,
     "metadata": {},
     "output_type": "execute_result"
    }
   ],
   "source": [
    "load_dotenv()"
   ]
  },
  {
   "cell_type": "markdown",
   "metadata": {},
   "source": [
    "## example"
   ]
  },
  {
   "cell_type": "code",
   "execution_count": 4,
   "metadata": {},
   "outputs": [
    {
     "name": "stdout",
     "output_type": "stream",
     "text": [
      "ChatCompletionMessage(content=\"In the realm of code, a concept divine,\\nRecursion dances like a serpentine line.\\nA function that calls itself, again and again,\\nUnraveling like a wizard's intricate chain.\\n\\nIt's a mirror reflecting a mirrored reflection,\\nA mysterious recursive connection.\\nLike echoes bouncing in a mystical space,\\nRepetition with elegance, grace, and embrace.\\n\\nIn the depths of algorithms, it weaves its thread,\\nA recursive call, like a tale endlessly spread.\\nThrough layers of logic, it reaches deep,\\nA recursive dream where promises keep.\\n\\nWith each recursive leap, a journey unfolds,\\nUnraveling mysteries, breaking codes' molds.\\nA cycle of beauty, a dance of the mind,\\nRecursion in programming, an enchanting find.\", role='assistant', function_call=None, tool_calls=None)\n"
     ]
    }
   ],
   "source": [
    "from openai import OpenAI\n",
    "client = OpenAI()\n",
    "\n",
    "completion = client.chat.completions.create(\n",
    "  model=\"gpt-3.5-turbo\",\n",
    "  messages=[\n",
    "    {\"role\": \"system\", \"content\": \"You are a poetic assistant, skilled in explaining complex programming concepts with creative flair.\"},\n",
    "    {\"role\": \"user\", \"content\": \"Compose a poem that explains the concept of recursion in programming.\"}\n",
    "  ]\n",
    ")\n",
    "\n",
    "print(completion.choices[0].message)"
   ]
  },
  {
   "cell_type": "markdown",
   "metadata": {},
   "source": [
    "## Our prompt"
   ]
  },
  {
   "cell_type": "code",
   "execution_count": 5,
   "metadata": {},
   "outputs": [],
   "source": [
    "sys_prompt = \"You are an accurate subtitle transcriber in English Language\""
   ]
  },
  {
   "cell_type": "code",
   "execution_count": 6,
   "metadata": {},
   "outputs": [],
   "source": [
    "user_prompt = \"\"\"You are given an input video, the context of video and ASR transcription is provided. Based on context of video, correct any inaccuracies in ASR transcription and return ASR transcription line by line as it was provided in the input:\n",
    "\n",
    "Context -\n",
    "\n",
    "This is a youtube video Shashi tharoor and Thiagarajan discuss about why Centre is not giving equal amount of taxes to South Indian states which is affecting the states of Tamil Naidu and Kerala\n",
    "\n",
    "ASR Transcription - For every one rupee of tax contributed by Uttar Pradesh, that state receives one rupee 79 paise back. from central taxes. One thing that's become clearly apparent that struck home to me was when you had the Finance Commission. For the first time, this last recent finance commission was asked to take into account the census of 2011 rather than the census of 1971 in determining allocations. How did that affect your state and my state and other states? Just as redistricting of MP seats has been frozen since 1976, precisely because you didn't want to penalize those states that achieved the population control targets set by the Union Government, by the leadership of the Union Government. Similarly, the notion that you should allocate funds based on the population of today or more closer to today then rewards those who have not been able to achieve population control and penalizes those like Kerala and Tamil Nadu who have tremendously succeeded where our total fertility rates are below replacement, below 2. But if the goal of net transfers is eventual equality or leveling of outcomes, then our finance commissions have been spectacularly failing at their job. For every one rupee of tax contributed by Uttar Pradesh, that state receives one rupee seventy nine paise back from central taxes. For every one rupee of tax contributed by Karnataka, that state receives 47 paise there. So the question that Mr. Siddharam I asked when he was chief minister is, what is my reward for development? And obviously there isn't any. Kerala meets 72% of its expenses from its own taxes, only 28 from central taxes. Bihar, it's almost exactly reversed. 23% from their own taxes, 77% from central taxes. And so we have a situation where, say, Tamil Nadu has a state budget that reflects, of course, only a small percentage of its tax earnings. UP has a larger state budget even though its economy is actually smaller than Tamil Nadu's because it's getting more money from elsewhere. Obviously, doesn't that put a strain on the federal idea because the increasing perception in the south would clearly seem to be that we're getting the raw end of the financial deal. Of course, that's problematic. in the short term. It's even more problematic in the long term. If you take Tamil Nadu for example, at one point we were seven, seven and a half percent of the country's economy. We were seven, seven and a half percent of the population and our share of the devolution of the horizontal between the states was seven, seven and a half percent. In 20-25 years, we've gone down to under 6% of the population, 10.5% to 11% of the economy, and our devolution is down to 4%. So in the long term, this trajectory worries me. If we go down this path, in another 15 or 20 years, we'll be 14-15% of the GDP and we'll get back like 2%. At that point, the debate becomes even more charged. I am much more concerned as a patriot, as a citizen. I am much more concerned about what happens to all this money when it goes to the poorer states. Why is it not leading to development? I mean, how is it that with less and less money back, we are still able to achieve I'm not saying we're fantastic, but we're in the right direction and our people's lives get better, there are more roads, there are better hospitals, there are better job creation platforms where global industry comes. Why is it that that's not happening in places like Bihar and UP? Because it's very stark, right? The data is a bit dated, about two years or three years. But in Bihar, the average age is 19. In Tamil Nadu, it's 34. In Bihar, the average education is elementary school dropout. In Tamil Nadu, it's high school graduate. In Bihar, the per capita income is about half the union average. In Tamil Nadu, it's double. So we have already diverged to a point where all of this money transfer, because if you say UP gets back 170, Bihar gets back about 345. For one rupee in, three rupees 45 back. Tamil Nadu puts one rupee in, we get 30 to 35 paisa back. So it's not the money that we begrudge. We live in one country. We want everybody to grow. It's the lack of progress. It's like throwing money down a well. What is happening that this money is not able to achieve outcomes? you\n",
    "\"\"\""
   ]
  },
  {
   "cell_type": "code",
   "execution_count": 7,
   "metadata": {},
   "outputs": [
    {
     "name": "stdout",
     "output_type": "stream",
     "text": [
      "\"For every one rupee of tax contributed by Uttar Pradesh, that state receives one rupee and 79 paise back from central taxes. One thing that's become clearly apparent, which struck home to me, was when the Finance Commission was held. For the first time, this last recent Finance Commission was asked to take into account the census of 2011 rather than the census of 1971 in determining allocations. How did that affect your state and my state and other states? Just as the redistribution of MP seats has been frozen since 1976, precisely because you didn't want to penalise those states that achieved the population control targets set by the Union Government, by the leadership of the Union Government. Similarly, the notion that you should allocate funds based on the population of today or more current, then rewards those who have not been able to achieve population control and penalises those like Kerala and Tamil Nadu who have tremendously succeeded where our total fertility rates are below replacement, below 2. But if the goal of net transfers is eventual equality or levelling of outcomes, then our finance commissions have been spectacularly failing at their job. For every one rupee of tax contributed by Uttar Pradesh, that state receives one rupee and seventy-nine paise back from central taxes. For every one rupee of tax contributed by Karnataka, that state receives 47 paise there. So the question that Mr. Siddharamiah asked when he was chief minister is, what is my reward for development? And obviously, there isn't any. Kerala meets 72% of its expenses from its own taxes, only 28% from central taxes. On the other hand, for Bihar, it's almost exactly reversed. 23% from their own taxes, 77% from central taxes. And so we have a situation where, say, Tamil Nadu has a state budget that reflects, of course, only a small percentage of its tax earnings. UP has a larger state budget even though its economy is actually smaller than Tamil Nadu's, because it's getting more money from elsewhere. Obviously, doesn't this put a strain on the federal idea because the increasing perception in the south is that we're getting the short end of the financial stick. Of course, that's problematic in the short term. It's even more problematic in the long term. If you take Tamil Nadu for example, at one point we were seven, seven and a half percent of the country's economy. We constituted seven, seven and a half percent of the population and our share of the tax redistribution among the states was seven, seven and a half percent. In 20-25 years, we've gone down to under 6% of the population, 10.5% to 11% of the economy, and our share of the tax redistribution is down to 4%. So in the long term, this trajectory worries me. If we go down this path, in another 15 or 20 years, we'll be at 14-15% of the GDP and we'll receive like 2% back. At that point, the debate becomes even more charged. I am much more concerned as a patriot, as a citizen. I am much more worried about what happens to all this money when it goes to the poorer states. Why is it not leading to development? I mean, how is it that with less and less money back, we are still able to achieve, I'm not saying we're fantastic, but we're headed in the right direction and our people's lives are getting better. There are more roads, there are better hospitals, and better job creation platforms where global industries come. Why is it that that's not happening in places like Bihar and UP? Because it's very stark, right? The data is a bit dated, about two to three years. But in Bihar, the average age is 19. In Tamil Nadu, it's 34. In Bihar, the average education is elementary school dropout. In Tamil Nadu, it's high school graduate. In Bihar, the per capita income is about half the union average. In Tamil Nadu, it's double. So, we have already diverged to the point where all of this money transfer, because if you say UP gets back 170; Bihar gets back about 345. For every one rupee in, three rupees and 45 paise back. Tamil Nadu puts one rupee in, we get 30 to 35 paise back. So it's not the money that we begrudge. We live in one country. We want everyone to grow. It's the lack of progress. It's like throwing money down a well. What is happening that this money is not able to achieve outcomes?\"\n"
     ]
    }
   ],
   "source": [
    "from openai import OpenAI\n",
    "client = OpenAI()\n",
    "\n",
    "completion = client.chat.completions.create(\n",
    "  model=\"gpt-4\",\n",
    "  messages=[\n",
    "    {\"role\": \"system\", \"content\": sys_prompt},\n",
    "    {\"role\": \"user\", \"content\": user_prompt}\n",
    "  ]\n",
    ")\n",
    "\n",
    "print(completion.choices[0].message.content)"
   ]
  },
  {
   "cell_type": "code",
   "execution_count": null,
   "metadata": {},
   "outputs": [],
   "source": []
  }
 ],
 "metadata": {
  "kernelspec": {
   "display_name": "Python 3 (ipykernel)",
   "language": "python",
   "name": "python3"
  },
  "language_info": {
   "codemirror_mode": {
    "name": "ipython",
    "version": 3
   },
   "file_extension": ".py",
   "mimetype": "text/x-python",
   "name": "python",
   "nbconvert_exporter": "python",
   "pygments_lexer": "ipython3",
   "version": "3.11.5"
  }
 },
 "nbformat": 4,
 "nbformat_minor": 4
}
