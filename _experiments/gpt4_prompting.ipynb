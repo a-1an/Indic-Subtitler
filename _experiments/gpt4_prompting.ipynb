{
 "cells": [
  {
   "cell_type": "markdown",
   "metadata": {},
   "source": [
    "## Using prompting with GPT-4 to improve ASR transcription accuracy\n",
    "\n"
   ]
  },
  {
   "cell_type": "markdown",
   "metadata": {},
   "source": [
    "Prompt1:\n",
    "\n",
    "You are given an input video, the context of video and ASR transcription is provided. Based on context of video, correct any inaccuracies in ASR transcription and return ASR transcription line by line as it was provided in the input:\n",
    "\n",
    "Context - \n",
    "\n",
    "This is a youtube video Shashi tharoor and Thiagarajan discuss about why Centre is not giving equal amount of taxes to South Indian states which is affecting the states of Tamil Naidu and Kerala\n",
    "\n",
    "ASR Transcription -\n",
    "For every one rupee of tax contributed by Uttar Pradesh, that state receives one rupee 79 paise back.\n",
    " from central taxes.\n",
    "One thing that's become clearly apparent\n",
    " that struck home to me was when you had the Finance Commission.\n",
    "For the first time,\n",
    " this last recent finance commission was asked to take into account\n",
    " the census of 2011 rather than the census of 1971 in determining allocations.\n",
    " How did that affect your state and my state and other states?\n",
    "Just as redistricting of MP seats has been frozen since 1976,\n",
    " precisely because you didn't want to penalize those states that achieved the population control targets set by the Union Government, by the leadership of the Union Government.\n",
    " Similarly, the notion that you should allocate funds based on the population of today or more closer to today then rewards those who have not been able to achieve population control and penalizes those like Kerala and Tamil Nadu who have tremendously succeeded where our total fertility rates are below replacement, below 2.\n",
    "But if the goal of net transfers is\n",
    " eventual equality or leveling of outcomes, then our finance commissions have been spectacularly failing at their job.\n",
    "For every one rupee of tax contributed by Uttar Pradesh, that state receives one rupee seventy nine paise back from central taxes.\n",
    " For every one rupee of tax contributed by Karnataka, that state receives 47 paise there.\n",
    "So the question that Mr. Siddharam I asked when he was chief minister is, what is my reward for development?\n",
    "And obviously there isn't any.\n",
    "Kerala meets 72% of its expenses from its own taxes, only 28 from central taxes.\n",
    " Bihar, it's almost exactly reversed.\n",
    "23% from their own taxes, 77% from central taxes.\n",
    "And so we have a situation where, say, Tamil Nadu has a state budget that reflects, of course, only a small percentage of its tax earnings.\n",
    " UP has a larger state budget even though its economy is actually smaller than Tamil Nadu's because it's getting more money from elsewhere.\n",
    "Obviously, doesn't that put a strain on the federal idea because the increasing perception in the south would clearly seem to be that we're getting the raw end of the financial deal.\n",
    "Of course, that's problematic.\n",
    " in the short term.\n",
    "It's even more problematic in the long term.\n",
    "If you take Tamil Nadu for example, at one point we were seven, seven and a half percent of the country's economy.\n",
    "We were seven, seven and a half percent of the population and our share of the devolution of the horizontal between the states was seven, seven and a half percent.\n",
    " In 20-25 years, we've gone down to under 6% of the population, 10.5% to 11% of the economy, and our devolution is down to 4%.\n",
    "So in the long term, this trajectory worries me.\n",
    "If we go down this path, in another 15 or 20 years, we'll be 14-15% of the GDP and we'll get back like 2%.\n",
    "At that point, the debate becomes even more charged.\n",
    " I am much more concerned as a patriot, as a citizen.\n",
    "I am much more concerned about what happens to all this money when it goes to the poorer states.\n",
    "Why is it not leading to development?\n",
    "I mean, how is it that with less and less money back, we are still able to achieve\n",
    " I'm not saying we're fantastic, but we're in the right direction and our people's lives get better, there are more roads, there are better hospitals, there are better job creation platforms where global industry comes.\n",
    " Why is it that that's not happening in places like Bihar and UP?\n",
    "Because it's very stark, right?\n",
    "The data is a bit dated, about two years or three years.\n",
    "But in Bihar, the average age is 19.\n",
    "In Tamil Nadu, it's 34.\n",
    "In Bihar, the average education is elementary school dropout.\n",
    "In Tamil Nadu, it's high school graduate.\n",
    "In Bihar, the per capita income is about half the union average.\n",
    " In Tamil Nadu, it's double.\n",
    "So we have already diverged to a point where all of this money transfer, because if you say UP gets back 170, Bihar gets back about 345.\n",
    "For one rupee in, three rupees 45 back.\n",
    "Tamil Nadu puts one rupee in, we get 30 to 35 paisa back.\n",
    "So it's not the money that we begrudge.\n",
    "We live in one country.\n",
    "We want everybody to grow.\n",
    "It's the lack of progress.\n",
    "It's like throwing money down a well.\n",
    "What is happening that this money is not able to achieve outcomes?\n",
    " you\n"
   ]
  },
  {
   "cell_type": "code",
   "execution_count": null,
   "metadata": {},
   "outputs": [],
   "source": []
  }
 ],
 "metadata": {
  "language_info": {
   "name": "python"
  }
 },
 "nbformat": 4,
 "nbformat_minor": 2
}
